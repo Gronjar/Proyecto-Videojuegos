{
 "cells": [
  {
   "cell_type": "markdown",
   "metadata": {},
   "source": [
    "#Sprint 7"
   ]
  },
  {
   "cell_type": "code",
   "execution_count": 4,
   "metadata": {
    "trusted": false
   },
   "outputs": [
    {
     "data": {
      "text/html": [
       "<div>\n",
       "<style scoped>\n",
       "    .dataframe tbody tr th:only-of-type {\n",
       "        vertical-align: middle;\n",
       "    }\n",
       "\n",
       "    .dataframe tbody tr th {\n",
       "        vertical-align: top;\n",
       "    }\n",
       "\n",
       "    .dataframe thead th {\n",
       "        text-align: right;\n",
       "    }\n",
       "</style>\n",
       "<table border=\"1\" class=\"dataframe\">\n",
       "  <thead>\n",
       "    <tr style=\"text-align: right;\">\n",
       "      <th></th>\n",
       "      <th>Name</th>\n",
       "      <th>Platform</th>\n",
       "      <th>Year_of_Release</th>\n",
       "      <th>Genre</th>\n",
       "      <th>NA_sales</th>\n",
       "      <th>EU_sales</th>\n",
       "      <th>JP_sales</th>\n",
       "      <th>Other_sales</th>\n",
       "      <th>Critic_Score</th>\n",
       "      <th>User_Score</th>\n",
       "      <th>Rating</th>\n",
       "    </tr>\n",
       "  </thead>\n",
       "  <tbody>\n",
       "    <tr>\n",
       "      <th>0</th>\n",
       "      <td>Wii Sports</td>\n",
       "      <td>Wii</td>\n",
       "      <td>2006.0</td>\n",
       "      <td>Sports</td>\n",
       "      <td>41.36</td>\n",
       "      <td>28.96</td>\n",
       "      <td>3.77</td>\n",
       "      <td>8.45</td>\n",
       "      <td>76.0</td>\n",
       "      <td>8</td>\n",
       "      <td>E</td>\n",
       "    </tr>\n",
       "    <tr>\n",
       "      <th>1</th>\n",
       "      <td>Super Mario Bros.</td>\n",
       "      <td>NES</td>\n",
       "      <td>1985.0</td>\n",
       "      <td>Platform</td>\n",
       "      <td>29.08</td>\n",
       "      <td>3.58</td>\n",
       "      <td>6.81</td>\n",
       "      <td>0.77</td>\n",
       "      <td>NaN</td>\n",
       "      <td>NaN</td>\n",
       "      <td>NaN</td>\n",
       "    </tr>\n",
       "    <tr>\n",
       "      <th>2</th>\n",
       "      <td>Mario Kart Wii</td>\n",
       "      <td>Wii</td>\n",
       "      <td>2008.0</td>\n",
       "      <td>Racing</td>\n",
       "      <td>15.68</td>\n",
       "      <td>12.76</td>\n",
       "      <td>3.79</td>\n",
       "      <td>3.29</td>\n",
       "      <td>82.0</td>\n",
       "      <td>8.3</td>\n",
       "      <td>E</td>\n",
       "    </tr>\n",
       "    <tr>\n",
       "      <th>3</th>\n",
       "      <td>Wii Sports Resort</td>\n",
       "      <td>Wii</td>\n",
       "      <td>2009.0</td>\n",
       "      <td>Sports</td>\n",
       "      <td>15.61</td>\n",
       "      <td>10.93</td>\n",
       "      <td>3.28</td>\n",
       "      <td>2.95</td>\n",
       "      <td>80.0</td>\n",
       "      <td>8</td>\n",
       "      <td>E</td>\n",
       "    </tr>\n",
       "    <tr>\n",
       "      <th>4</th>\n",
       "      <td>Pokemon Red/Pokemon Blue</td>\n",
       "      <td>GB</td>\n",
       "      <td>1996.0</td>\n",
       "      <td>Role-Playing</td>\n",
       "      <td>11.27</td>\n",
       "      <td>8.89</td>\n",
       "      <td>10.22</td>\n",
       "      <td>1.00</td>\n",
       "      <td>NaN</td>\n",
       "      <td>NaN</td>\n",
       "      <td>NaN</td>\n",
       "    </tr>\n",
       "    <tr>\n",
       "      <th>5</th>\n",
       "      <td>Tetris</td>\n",
       "      <td>GB</td>\n",
       "      <td>1989.0</td>\n",
       "      <td>Puzzle</td>\n",
       "      <td>23.20</td>\n",
       "      <td>2.26</td>\n",
       "      <td>4.22</td>\n",
       "      <td>0.58</td>\n",
       "      <td>NaN</td>\n",
       "      <td>NaN</td>\n",
       "      <td>NaN</td>\n",
       "    </tr>\n",
       "    <tr>\n",
       "      <th>6</th>\n",
       "      <td>New Super Mario Bros.</td>\n",
       "      <td>DS</td>\n",
       "      <td>2006.0</td>\n",
       "      <td>Platform</td>\n",
       "      <td>11.28</td>\n",
       "      <td>9.14</td>\n",
       "      <td>6.50</td>\n",
       "      <td>2.88</td>\n",
       "      <td>89.0</td>\n",
       "      <td>8.5</td>\n",
       "      <td>E</td>\n",
       "    </tr>\n",
       "    <tr>\n",
       "      <th>7</th>\n",
       "      <td>Wii Play</td>\n",
       "      <td>Wii</td>\n",
       "      <td>2006.0</td>\n",
       "      <td>Misc</td>\n",
       "      <td>13.96</td>\n",
       "      <td>9.18</td>\n",
       "      <td>2.93</td>\n",
       "      <td>2.84</td>\n",
       "      <td>58.0</td>\n",
       "      <td>6.6</td>\n",
       "      <td>E</td>\n",
       "    </tr>\n",
       "  </tbody>\n",
       "</table>\n",
       "</div>"
      ],
      "text/plain": [
       "                       Name Platform  Year_of_Release         Genre  NA_sales  \\\n",
       "0                Wii Sports      Wii           2006.0        Sports     41.36   \n",
       "1         Super Mario Bros.      NES           1985.0      Platform     29.08   \n",
       "2            Mario Kart Wii      Wii           2008.0        Racing     15.68   \n",
       "3         Wii Sports Resort      Wii           2009.0        Sports     15.61   \n",
       "4  Pokemon Red/Pokemon Blue       GB           1996.0  Role-Playing     11.27   \n",
       "5                    Tetris       GB           1989.0        Puzzle     23.20   \n",
       "6     New Super Mario Bros.       DS           2006.0      Platform     11.28   \n",
       "7                  Wii Play      Wii           2006.0          Misc     13.96   \n",
       "\n",
       "   EU_sales  JP_sales  Other_sales  Critic_Score User_Score Rating  \n",
       "0     28.96      3.77         8.45          76.0          8      E  \n",
       "1      3.58      6.81         0.77           NaN        NaN    NaN  \n",
       "2     12.76      3.79         3.29          82.0        8.3      E  \n",
       "3     10.93      3.28         2.95          80.0          8      E  \n",
       "4      8.89     10.22         1.00           NaN        NaN    NaN  \n",
       "5      2.26      4.22         0.58           NaN        NaN    NaN  \n",
       "6      9.14      6.50         2.88          89.0        8.5      E  \n",
       "7      9.18      2.93         2.84          58.0        6.6      E  "
      ]
     },
     "execution_count": 4,
     "metadata": {},
     "output_type": "execute_result"
    }
   ],
   "source": [
    "import pandas as pd\n",
    "import numpy as np\n",
    "import matplotlib.pyplot as plt\n",
    "from scipy import stats\n",
    "import seaborn as sns\n",
    "\n",
    "df = pd.read_csv('/datasets/games.csv')\n",
    "\n",
    "df.head(8)\n"
   ]
  },
  {
   "cell_type": "code",
   "execution_count": 5,
   "metadata": {
    "trusted": false
   },
   "outputs": [
    {
     "data": {
      "text/html": [
       "<div>\n",
       "<style scoped>\n",
       "    .dataframe tbody tr th:only-of-type {\n",
       "        vertical-align: middle;\n",
       "    }\n",
       "\n",
       "    .dataframe tbody tr th {\n",
       "        vertical-align: top;\n",
       "    }\n",
       "\n",
       "    .dataframe thead th {\n",
       "        text-align: right;\n",
       "    }\n",
       "</style>\n",
       "<table border=\"1\" class=\"dataframe\">\n",
       "  <thead>\n",
       "    <tr style=\"text-align: right;\">\n",
       "      <th></th>\n",
       "      <th>name</th>\n",
       "      <th>platform</th>\n",
       "      <th>year_of_release</th>\n",
       "      <th>genre</th>\n",
       "      <th>na_sales</th>\n",
       "      <th>eu_sales</th>\n",
       "      <th>jp_sales</th>\n",
       "      <th>other_sales</th>\n",
       "      <th>critic_score</th>\n",
       "      <th>user_score</th>\n",
       "      <th>rating</th>\n",
       "    </tr>\n",
       "  </thead>\n",
       "  <tbody>\n",
       "    <tr>\n",
       "      <th>0</th>\n",
       "      <td>Wii Sports</td>\n",
       "      <td>Wii</td>\n",
       "      <td>2006.0</td>\n",
       "      <td>Sports</td>\n",
       "      <td>41.36</td>\n",
       "      <td>28.96</td>\n",
       "      <td>3.77</td>\n",
       "      <td>8.45</td>\n",
       "      <td>76.0</td>\n",
       "      <td>8.0</td>\n",
       "      <td>E</td>\n",
       "    </tr>\n",
       "    <tr>\n",
       "      <th>1</th>\n",
       "      <td>Super Mario Bros.</td>\n",
       "      <td>NES</td>\n",
       "      <td>1985.0</td>\n",
       "      <td>Platform</td>\n",
       "      <td>29.08</td>\n",
       "      <td>3.58</td>\n",
       "      <td>6.81</td>\n",
       "      <td>0.77</td>\n",
       "      <td>NaN</td>\n",
       "      <td>NaN</td>\n",
       "      <td>NaN</td>\n",
       "    </tr>\n",
       "    <tr>\n",
       "      <th>2</th>\n",
       "      <td>Mario Kart Wii</td>\n",
       "      <td>Wii</td>\n",
       "      <td>2008.0</td>\n",
       "      <td>Racing</td>\n",
       "      <td>15.68</td>\n",
       "      <td>12.76</td>\n",
       "      <td>3.79</td>\n",
       "      <td>3.29</td>\n",
       "      <td>82.0</td>\n",
       "      <td>8.3</td>\n",
       "      <td>E</td>\n",
       "    </tr>\n",
       "    <tr>\n",
       "      <th>3</th>\n",
       "      <td>Wii Sports Resort</td>\n",
       "      <td>Wii</td>\n",
       "      <td>2009.0</td>\n",
       "      <td>Sports</td>\n",
       "      <td>15.61</td>\n",
       "      <td>10.93</td>\n",
       "      <td>3.28</td>\n",
       "      <td>2.95</td>\n",
       "      <td>80.0</td>\n",
       "      <td>8.0</td>\n",
       "      <td>E</td>\n",
       "    </tr>\n",
       "    <tr>\n",
       "      <th>4</th>\n",
       "      <td>Pokemon Red/Pokemon Blue</td>\n",
       "      <td>GB</td>\n",
       "      <td>1996.0</td>\n",
       "      <td>Role-Playing</td>\n",
       "      <td>11.27</td>\n",
       "      <td>8.89</td>\n",
       "      <td>10.22</td>\n",
       "      <td>1.00</td>\n",
       "      <td>NaN</td>\n",
       "      <td>NaN</td>\n",
       "      <td>NaN</td>\n",
       "    </tr>\n",
       "  </tbody>\n",
       "</table>\n",
       "</div>"
      ],
      "text/plain": [
       "                       name platform  year_of_release         genre  na_sales  \\\n",
       "0                Wii Sports      Wii           2006.0        Sports     41.36   \n",
       "1         Super Mario Bros.      NES           1985.0      Platform     29.08   \n",
       "2            Mario Kart Wii      Wii           2008.0        Racing     15.68   \n",
       "3         Wii Sports Resort      Wii           2009.0        Sports     15.61   \n",
       "4  Pokemon Red/Pokemon Blue       GB           1996.0  Role-Playing     11.27   \n",
       "\n",
       "   eu_sales  jp_sales  other_sales  critic_score  user_score rating  \n",
       "0     28.96      3.77         8.45          76.0         8.0      E  \n",
       "1      3.58      6.81         0.77           NaN         NaN    NaN  \n",
       "2     12.76      3.79         3.29          82.0         8.3      E  \n",
       "3     10.93      3.28         2.95          80.0         8.0      E  \n",
       "4      8.89     10.22         1.00           NaN         NaN    NaN  "
      ]
     },
     "execution_count": 5,
     "metadata": {},
     "output_type": "execute_result"
    }
   ],
   "source": [
    "#Convertimos a minusculas renombrando de mayuscula a minusculas.\n",
    "df.columns = df.columns.str.lower()\n",
    "\n",
    "# Converti los tipos de datos\n",
    "df['year_of_release'] = pd.to_datetime(df['year_of_release'], format='%Y', errors='coerce').dt.year\n",
    "df['critic_score'] = pd.to_numeric(df['critic_score'], errors='coerce')\n",
    "df['user_score'] = pd.to_numeric(df['user_score'], errors='coerce')\n",
    "df.head()\n"
   ]
  },
  {
   "cell_type": "code",
   "execution_count": 6,
   "metadata": {
    "trusted": false
   },
   "outputs": [
    {
     "name": "stdout",
     "output_type": "stream",
     "text": [
      "name                  2\n",
      "platform              0\n",
      "year_of_release     269\n",
      "genre                 2\n",
      "na_sales              0\n",
      "eu_sales              0\n",
      "jp_sales              0\n",
      "other_sales           0\n",
      "critic_score       8578\n",
      "user_score         9125\n",
      "rating             6766\n",
      "dtype: int64\n"
     ]
    },
    {
     "data": {
      "text/html": [
       "<div>\n",
       "<style scoped>\n",
       "    .dataframe tbody tr th:only-of-type {\n",
       "        vertical-align: middle;\n",
       "    }\n",
       "\n",
       "    .dataframe tbody tr th {\n",
       "        vertical-align: top;\n",
       "    }\n",
       "\n",
       "    .dataframe thead th {\n",
       "        text-align: right;\n",
       "    }\n",
       "</style>\n",
       "<table border=\"1\" class=\"dataframe\">\n",
       "  <thead>\n",
       "    <tr style=\"text-align: right;\">\n",
       "      <th></th>\n",
       "      <th>name</th>\n",
       "      <th>platform</th>\n",
       "      <th>year_of_release</th>\n",
       "      <th>genre</th>\n",
       "      <th>na_sales</th>\n",
       "      <th>eu_sales</th>\n",
       "      <th>jp_sales</th>\n",
       "      <th>other_sales</th>\n",
       "      <th>critic_score</th>\n",
       "      <th>user_score</th>\n",
       "      <th>rating</th>\n",
       "    </tr>\n",
       "  </thead>\n",
       "  <tbody>\n",
       "    <tr>\n",
       "      <th>0</th>\n",
       "      <td>Wii Sports</td>\n",
       "      <td>Wii</td>\n",
       "      <td>2006.0</td>\n",
       "      <td>Sports</td>\n",
       "      <td>41.36</td>\n",
       "      <td>28.96</td>\n",
       "      <td>3.77</td>\n",
       "      <td>8.45</td>\n",
       "      <td>76.0</td>\n",
       "      <td>8.0</td>\n",
       "      <td>E</td>\n",
       "    </tr>\n",
       "    <tr>\n",
       "      <th>1</th>\n",
       "      <td>Super Mario Bros.</td>\n",
       "      <td>NES</td>\n",
       "      <td>1985.0</td>\n",
       "      <td>Platform</td>\n",
       "      <td>29.08</td>\n",
       "      <td>3.58</td>\n",
       "      <td>6.81</td>\n",
       "      <td>0.77</td>\n",
       "      <td>71.0</td>\n",
       "      <td>7.5</td>\n",
       "      <td>NaN</td>\n",
       "    </tr>\n",
       "    <tr>\n",
       "      <th>2</th>\n",
       "      <td>Mario Kart Wii</td>\n",
       "      <td>Wii</td>\n",
       "      <td>2008.0</td>\n",
       "      <td>Racing</td>\n",
       "      <td>15.68</td>\n",
       "      <td>12.76</td>\n",
       "      <td>3.79</td>\n",
       "      <td>3.29</td>\n",
       "      <td>82.0</td>\n",
       "      <td>8.3</td>\n",
       "      <td>E</td>\n",
       "    </tr>\n",
       "    <tr>\n",
       "      <th>3</th>\n",
       "      <td>Wii Sports Resort</td>\n",
       "      <td>Wii</td>\n",
       "      <td>2009.0</td>\n",
       "      <td>Sports</td>\n",
       "      <td>15.61</td>\n",
       "      <td>10.93</td>\n",
       "      <td>3.28</td>\n",
       "      <td>2.95</td>\n",
       "      <td>80.0</td>\n",
       "      <td>8.0</td>\n",
       "      <td>E</td>\n",
       "    </tr>\n",
       "    <tr>\n",
       "      <th>4</th>\n",
       "      <td>Pokemon Red/Pokemon Blue</td>\n",
       "      <td>GB</td>\n",
       "      <td>1996.0</td>\n",
       "      <td>Role-Playing</td>\n",
       "      <td>11.27</td>\n",
       "      <td>8.89</td>\n",
       "      <td>10.22</td>\n",
       "      <td>1.00</td>\n",
       "      <td>71.0</td>\n",
       "      <td>7.5</td>\n",
       "      <td>NaN</td>\n",
       "    </tr>\n",
       "  </tbody>\n",
       "</table>\n",
       "</div>"
      ],
      "text/plain": [
       "                       name platform  year_of_release         genre  na_sales  \\\n",
       "0                Wii Sports      Wii           2006.0        Sports     41.36   \n",
       "1         Super Mario Bros.      NES           1985.0      Platform     29.08   \n",
       "2            Mario Kart Wii      Wii           2008.0        Racing     15.68   \n",
       "3         Wii Sports Resort      Wii           2009.0        Sports     15.61   \n",
       "4  Pokemon Red/Pokemon Blue       GB           1996.0  Role-Playing     11.27   \n",
       "\n",
       "   eu_sales  jp_sales  other_sales  critic_score  user_score rating  \n",
       "0     28.96      3.77         8.45          76.0         8.0      E  \n",
       "1      3.58      6.81         0.77          71.0         7.5    NaN  \n",
       "2     12.76      3.79         3.29          82.0         8.3      E  \n",
       "3     10.93      3.28         2.95          80.0         8.0      E  \n",
       "4      8.89     10.22         1.00          71.0         7.5    NaN  "
      ]
     },
     "execution_count": 6,
     "metadata": {},
     "output_type": "execute_result"
    }
   ],
   "source": [
    "#Se muestran  los valores ausentes\n",
    "missing_values = df.isnull().sum()\n",
    "print(missing_values)\n",
    "\n",
    "# Rellenar valores ausentes\n",
    "df['critic_score'].fillna(df['critic_score'].median(), inplace=True)  # Mediana es menos sensible a outliers\n",
    "df['user_score'].fillna(df['user_score'].median(), inplace=True) \n",
    "\n",
    "# Manejo de 'TBD'\n",
    "df['user_score'].replace('tbd', pd.NA, inplace=True)\n",
    "df.head()"
   ]
  },
  {
   "cell_type": "code",
   "execution_count": 7,
   "metadata": {
    "trusted": false
   },
   "outputs": [
    {
     "data": {
      "text/html": [
       "<div>\n",
       "<style scoped>\n",
       "    .dataframe tbody tr th:only-of-type {\n",
       "        vertical-align: middle;\n",
       "    }\n",
       "\n",
       "    .dataframe tbody tr th {\n",
       "        vertical-align: top;\n",
       "    }\n",
       "\n",
       "    .dataframe thead th {\n",
       "        text-align: right;\n",
       "    }\n",
       "</style>\n",
       "<table border=\"1\" class=\"dataframe\">\n",
       "  <thead>\n",
       "    <tr style=\"text-align: right;\">\n",
       "      <th></th>\n",
       "      <th>name</th>\n",
       "      <th>platform</th>\n",
       "      <th>year_of_release</th>\n",
       "      <th>genre</th>\n",
       "      <th>na_sales</th>\n",
       "      <th>eu_sales</th>\n",
       "      <th>jp_sales</th>\n",
       "      <th>other_sales</th>\n",
       "      <th>critic_score</th>\n",
       "      <th>user_score</th>\n",
       "      <th>rating</th>\n",
       "      <th>total_sales</th>\n",
       "    </tr>\n",
       "  </thead>\n",
       "  <tbody>\n",
       "    <tr>\n",
       "      <th>0</th>\n",
       "      <td>Wii Sports</td>\n",
       "      <td>Wii</td>\n",
       "      <td>2006.0</td>\n",
       "      <td>Sports</td>\n",
       "      <td>41.36</td>\n",
       "      <td>28.96</td>\n",
       "      <td>3.77</td>\n",
       "      <td>8.45</td>\n",
       "      <td>76.0</td>\n",
       "      <td>8.0</td>\n",
       "      <td>E</td>\n",
       "      <td>82.54</td>\n",
       "    </tr>\n",
       "    <tr>\n",
       "      <th>1</th>\n",
       "      <td>Super Mario Bros.</td>\n",
       "      <td>NES</td>\n",
       "      <td>1985.0</td>\n",
       "      <td>Platform</td>\n",
       "      <td>29.08</td>\n",
       "      <td>3.58</td>\n",
       "      <td>6.81</td>\n",
       "      <td>0.77</td>\n",
       "      <td>71.0</td>\n",
       "      <td>7.5</td>\n",
       "      <td>NaN</td>\n",
       "      <td>40.24</td>\n",
       "    </tr>\n",
       "    <tr>\n",
       "      <th>2</th>\n",
       "      <td>Mario Kart Wii</td>\n",
       "      <td>Wii</td>\n",
       "      <td>2008.0</td>\n",
       "      <td>Racing</td>\n",
       "      <td>15.68</td>\n",
       "      <td>12.76</td>\n",
       "      <td>3.79</td>\n",
       "      <td>3.29</td>\n",
       "      <td>82.0</td>\n",
       "      <td>8.3</td>\n",
       "      <td>E</td>\n",
       "      <td>35.52</td>\n",
       "    </tr>\n",
       "    <tr>\n",
       "      <th>3</th>\n",
       "      <td>Wii Sports Resort</td>\n",
       "      <td>Wii</td>\n",
       "      <td>2009.0</td>\n",
       "      <td>Sports</td>\n",
       "      <td>15.61</td>\n",
       "      <td>10.93</td>\n",
       "      <td>3.28</td>\n",
       "      <td>2.95</td>\n",
       "      <td>80.0</td>\n",
       "      <td>8.0</td>\n",
       "      <td>E</td>\n",
       "      <td>32.77</td>\n",
       "    </tr>\n",
       "    <tr>\n",
       "      <th>4</th>\n",
       "      <td>Pokemon Red/Pokemon Blue</td>\n",
       "      <td>GB</td>\n",
       "      <td>1996.0</td>\n",
       "      <td>Role-Playing</td>\n",
       "      <td>11.27</td>\n",
       "      <td>8.89</td>\n",
       "      <td>10.22</td>\n",
       "      <td>1.00</td>\n",
       "      <td>71.0</td>\n",
       "      <td>7.5</td>\n",
       "      <td>NaN</td>\n",
       "      <td>31.38</td>\n",
       "    </tr>\n",
       "  </tbody>\n",
       "</table>\n",
       "</div>"
      ],
      "text/plain": [
       "                       name platform  year_of_release         genre  na_sales  \\\n",
       "0                Wii Sports      Wii           2006.0        Sports     41.36   \n",
       "1         Super Mario Bros.      NES           1985.0      Platform     29.08   \n",
       "2            Mario Kart Wii      Wii           2008.0        Racing     15.68   \n",
       "3         Wii Sports Resort      Wii           2009.0        Sports     15.61   \n",
       "4  Pokemon Red/Pokemon Blue       GB           1996.0  Role-Playing     11.27   \n",
       "\n",
       "   eu_sales  jp_sales  other_sales  critic_score  user_score rating  \\\n",
       "0     28.96      3.77         8.45          76.0         8.0      E   \n",
       "1      3.58      6.81         0.77          71.0         7.5    NaN   \n",
       "2     12.76      3.79         3.29          82.0         8.3      E   \n",
       "3     10.93      3.28         2.95          80.0         8.0      E   \n",
       "4      8.89     10.22         1.00          71.0         7.5    NaN   \n",
       "\n",
       "   total_sales  \n",
       "0        82.54  \n",
       "1        40.24  \n",
       "2        35.52  \n",
       "3        32.77  \n",
       "4        31.38  "
      ]
     },
     "execution_count": 7,
     "metadata": {},
     "output_type": "execute_result"
    }
   ],
   "source": [
    "# Calcular ventas totales\n",
    "df['total_sales'] = df['na_sales'] + df['eu_sales'] + df['jp_sales'] + df['other_sales']\n",
    "df.head()"
   ]
  },
  {
   "cell_type": "markdown",
   "metadata": {},
   "source": [
    "***Primero importamos las libreria y desues la ruta del datase. year_of_release: Convertido a año para facilitar los datos, critic_score y user_score: Convertidos a numéricos mejor analizis Se convirtio las columnas de mayuscula a minuscula.Se muestran los valores ausentes. Puede ser que los los valores AUSENTES ose allan registrado su fecha de lanzamiento en la base de datos. o tambien que si no se realizaron algunas resenas de algunos juegos. Una de las mejores razones es no dejar nada en blanco porque puede ocasionar erroes al momento de funciones. se observan los vaores ausentes y se llenan con la media para no perder data. Se creo una nueva columna de la ventas totales \"tota_sales\""
   ]
  },
  {
   "cell_type": "code",
   "execution_count": 8,
   "metadata": {
    "trusted": false
   },
   "outputs": [
    {
     "data": {
      "image/png": "[encoded data removed]",
      "text/plain": [
       "<Figure size 1000x500 with 1 Axes>"
      ]
     },
     "metadata": {},
     "output_type": "display_data"
    }
   ],
   "source": [
    "# Contar juegos por año\n",
    "games_per_year = df['year_of_release'].value_counts().sort_index()\n",
    "\n",
    "# Visualización\n",
    "import matplotlib.pyplot as plt\n",
    "\n",
    "games_per_year.plot(kind='bar', figsize=(10, 5), color='black')\n",
    "plt.title('Número de Juegos Lanzados por Año')\n",
    "plt.xlabel('Año')\n",
    "plt.ylabel('Número de Juegos')\n",
    "plt.xticks(rotation=43)\n",
    "plt.show()\n"
   ]
  },
  {
   "cell_type": "markdown",
   "metadata": {},
   "source": [
    "Se ve un incremento significativo 2007 y 2008 eso quiere decir la gran lazamiento de inovacion de la industria a compracion de years pasados."
   ]
  },
  {
   "cell_type": "code",
   "execution_count": 9,
   "metadata": {
    "trusted": false
   },
   "outputs": [
    {
     "data": {
      "image/png": "[encoded data removed]",
      "text/plain": [
       "<Figure size 1000x500 with 1 Axes>"
      ]
     },
     "metadata": {},
     "output_type": "display_data"
    }
   ],
   "source": [
    "# Ventas totales por plataforma\n",
    "platform_sales = df.groupby('platform')['total_sales'].sum().sort_values(ascending=False)\n",
    "\n",
    "# Visualización\n",
    "platform_sales.plot(kind='bar', figsize=(10, 5), color='green')\n",
    "plt.title('Ventas Totales por Plataforma')\n",
    "plt.xlabel('Plataforma')\n",
    "plt.ylabel('Ventas Totales (millones)')\n",
    "plt.xticks(rotation=45)\n",
    "plt.show()\n"
   ]
  },
  {
   "cell_type": "markdown",
   "metadata": {},
   "source": [
    "PS2 fue con el de mas ventas totales de ahi x360 conforme pasa el tiempo van creando inovacion el las plataformas "
   ]
  },
  {
   "cell_type": "code",
   "execution_count": 12,
   "metadata": {
    "trusted": false
   },
   "outputs": [
    {
     "data": {
      "image/png": "[encoded data removed]",
      "text/plain": [
       "<Figure size 1200x600 with 1 Axes>"
      ]
     },
     "metadata": {},
     "output_type": "display_data"
    }
   ],
   "source": [
    "# Los datos para los últimos 5 años de 2013 a 2017\n",
    "filtered_df = df[df['year_of_release'].between(2013, 2017)]\n",
    "\n",
    "# Agrupamos por año y plataforma\n",
    "annual_sales = filtered_df.groupby(['year_of_release', 'platform'])['total_sales'].sum().unstack()\n",
    "\n",
    "# Se Grafica\n",
    "annual_sales.plot(kind='bar', stacked=True, figsize=(12, 6))\n",
    "plt.title('Ventas Anuales por Plataforma (2013-2017)')\n",
    "plt.xlabel('Año')\n",
    "plt.ylabel('Ventas Totales (millones)')\n",
    "plt.legend(title='Plataforma', bbox_to_anchor=(1.05, 1), loc='upper left')\n",
    "plt.show()\n"
   ]
  },
  {
   "cell_type": "markdown",
   "metadata": {},
   "source": [
    "En ventas anuales ps4 sobresale pero despues disminuye por la 20212 y de ahi empieza xone su auje ne 21014 de ahi disminuye"
   ]
  },
  {
   "cell_type": "code",
   "execution_count": 335,
   "metadata": {
    "trusted": false
   },
   "outputs": [
    {
     "name": "stdout",
     "output_type": "stream",
     "text": [
      "platform\n",
      "PS3     587.74\n",
      "X360    550.41\n",
      "PS4     314.14\n",
      "3DS     257.81\n",
      "Wii     222.97\n",
      "XOne    159.32\n",
      "DS      123.75\n",
      "PC      121.96\n",
      "WiiU     82.19\n",
      "PSP      64.05\n",
      "PSV      53.81\n",
      "PS2       6.09\n",
      "Name: total_sales, dtype: float64\n"
     ]
    }
   ],
   "source": [
    "# Las plataformas con ventas totales y observar tendencias\n",
    "recent_years = df[df['year_of_release'] >= 2010]\n",
    "recent_platform_sales = recent_years.groupby('platform')['total_sales'].sum().sort_values(ascending=False)\n",
    "print(recent_platform_sales)\n"
   ]
  },
  {
   "cell_type": "markdown",
   "metadata": {},
   "source": [
    "ps3 Fue la mas vendida eso quiere decir que tre mas inovacion alla en la industria mejor critica y eso aumenta las ventas"
   ]
  },
  {
   "cell_type": "code",
   "execution_count": 336,
   "metadata": {
    "trusted": false
   },
   "outputs": [
    {
     "name": "stdout",
     "output_type": "stream",
     "text": [
      "Plataformas líderes en ventas:\n",
      "platform\n",
      "PS3     587.74\n",
      "X360    550.41\n",
      "PS4     314.14\n",
      "3DS     257.81\n",
      "Wii     222.97\n",
      "XOne    159.32\n",
      "Name: total_sales, dtype: float64\n"
     ]
    }
   ],
   "source": [
    "# Plataformas lideres\n",
    "leading_platforms = recent_platform_sales.nlargest(6)\n",
    "print(\"Plataformas líderes en ventas:\")\n",
    "print(leading_platforms)\n"
   ]
  },
  {
   "cell_type": "markdown",
   "metadata": {},
   "source": [
    "Ps3 es el lider"
   ]
  },
  {
   "cell_type": "code",
   "execution_count": 17,
   "metadata": {
    "trusted": false
   },
   "outputs": [
    {
     "data": {
      "image/png": "[encoded data removed]",
      "text/plain": [
       "<Figure size 1200x600 with 1 Axes>"
      ]
     },
     "metadata": {},
     "output_type": "display_data"
    }
   ],
   "source": [
    "#Se Calcula el IQR para identificar outliers\n",
    "Q1 = df['total_sales'].quantile(0.25)\n",
    "Q3 = df['total_sales'].quantile(0.75)\n",
    "IQR = Q3 - Q1\n",
    "\n",
    "#Se Definen los límites para identificar outliers\n",
    "lower_bound = Q1 - 1.5 * IQR\n",
    "upper_bound = Q3 + 1.5 * IQR\n",
    "\n",
    "# Filtrar los datos para eliminar outliers\n",
    "filtered_df = df[(df['total_sales'] >= lower_bound) & (df['total_sales'] <= upper_bound)]\n",
    "\n",
    "# Visualización sin outliers\n",
    "plt.figure(figsize=(12, 6))\n",
    "sns.boxplot(x='platform', y='total_sales', data=filtered_df)\n",
    "plt.title('Diagrama de Caja de Ventas Globales por Plataforma (Sin Outliers)')\n",
    "plt.xlabel('Plataforma')\n",
    "plt.ylabel('Ventas Totales (millones)')\n",
    "plt.xticks(rotation=45)\n",
    "plt.show()\n"
   ]
  },
  {
   "cell_type": "markdown",
   "metadata": {},
   "source": [
    "Plataformas simpre varian acorde asu evolucion y critica de los compradores hace que mas se inlinen por cierta plataforma."
   ]
  },
  {
   "cell_type": "code",
   "execution_count": 18,
   "metadata": {
    "trusted": false
   },
   "outputs": [
    {
     "data": {
      "image/png": "[encoded data removed]",
      "text/plain": [
       "<Figure size 1000x600 with 1 Axes>"
      ]
     },
     "metadata": {},
     "output_type": "display_data"
    },
    {
     "name": "stdout",
     "output_type": "stream",
     "text": [
      "Correlación entre las reseñas de usuarios y las ventas: -0.06275557891282788\n"
     ]
    }
   ],
   "source": [
    "ps4_data = df[df['platform'] == 'PS4'].dropna(subset=['user_score', 'total_sales'])\n",
    "#Grafico de dispersión\n",
    "plt.figure(figsize=(10, 6))\n",
    "sns.scatterplot(x='user_score', y='total_sales', data=ps4_data)\n",
    "plt.title('Relación entre Reseñas de Usuarios y Ventas (PS4)')\n",
    "plt.xlabel('Puntuación de Usuarios')\n",
    "plt.ylabel('Ventas Totales (millones)')\n",
    "plt.show()\n",
    "\n",
    "# La correlación\n",
    "correlation = ps4_data['user_score'].corr(ps4_data['total_sales'])\n",
    "print(f'Correlación entre las reseñas de usuarios y las ventas: {correlation}')\n"
   ]
  },
  {
   "cell_type": "markdown",
   "metadata": {},
   "source": [
    "Una correlación de aproximadamente -0.063 indica una relación muy débil y negativa entre las reseñas de usuarios y las ventas de los juegos en la plataforma seleccionada, esto se debe posiblemente al marketing o las resenas de los usuarios o la diversidad e los mercados, precios!"
   ]
  },
  {
   "cell_type": "code",
   "execution_count": 19,
   "metadata": {
    "trusted": false
   },
   "outputs": [
    {
     "data": {
      "image/png": "[encoded data removed]",
      "text/plain": [
       "<Figure size 1000x600 with 1 Axes>"
      ]
     },
     "metadata": {},
     "output_type": "display_data"
    }
   ],
   "source": [
    "# Se Agrupa por género y se calcular las ventas totales y la cuenta de juegos\n",
    "genre_sales = df.groupby('genre').agg({'total_sales': 'sum', 'name': 'count'}).rename(columns={'name': 'count'})\n",
    "\n",
    "# Ordenar por ventas totales\n",
    "genre_sales = genre_sales.sort_values(by='total_sales', ascending=False)\n",
    "genre_sales.head(20)\n",
    "\n",
    "\n",
    "plt.figure(figsize=(10, 6))\n",
    "genre_sales['total_sales'].plot(kind='bar', color='lightblue')\n",
    "plt.title('Ventas Totales por Género')\n",
    "plt.xlabel('Género')\n",
    "plt.ylabel('Ventas Totales (millones)')\n",
    "plt.xticks(rotation=45)\n",
    "plt.show()"
   ]
  },
  {
   "cell_type": "markdown",
   "metadata": {},
   "source": [
    "El genero mas vendido es accion y el ultimo lugar de estrategia las persona sprefieren as accion deportes y de shooters."
   ]
  },
  {
   "cell_type": "code",
   "execution_count": 20,
   "metadata": {
    "trusted": false
   },
   "outputs": [
    {
     "name": "stdout",
     "output_type": "stream",
     "text": [
      "\n",
      "Cinco plataformas principales en NA:\n",
      "platform\n",
      "X360    602.47\n",
      "PS2     583.84\n",
      "Wii     496.90\n",
      "PS3     393.49\n",
      "DS      382.40\n",
      "Name: na_sales, dtype: float64\n",
      "\n",
      "Cinco plataformas principales en EU:\n",
      "platform\n",
      "PS2     339.29\n",
      "PS3     330.29\n",
      "X360    270.76\n",
      "Wii     262.21\n",
      "PS      213.61\n",
      "Name: eu_sales, dtype: float64\n",
      "\n",
      "Cinco plataformas principales en JP:\n",
      "platform\n",
      "DS      175.57\n",
      "PS      139.82\n",
      "PS2     139.20\n",
      "SNES    116.55\n",
      "3DS     100.67\n",
      "Name: jp_sales, dtype: float64\n"
     ]
    }
   ],
   "source": [
    " #Plataformas Principales por Región\n",
    "\n",
    "#Se Calculan las ventas totales por plataforma y región\n",
    "platform_sales_by_region = {\n",
    "    'NA': df.groupby('platform')['na_sales'].sum(),\n",
    "    'EU': df.groupby('platform')['eu_sales'].sum(),\n",
    "    'JP': df.groupby('platform')['jp_sales'].sum(),\n",
    "}\n",
    "\n",
    "# Las 5 plataformas principales para cada región\n",
    "top_platforms_by_region = {region: sales.nlargest(5) for region, sales in platform_sales_by_region.items()}\n",
    "\n",
    "# se imprime\n",
    "for region, platforms in top_platforms_by_region.items():\n",
    "    print(f\"\\nCinco plataformas principales en {region}:\")\n",
    "    print(platforms)\n"
   ]
  },
  {
   "cell_type": "markdown",
   "metadata": {},
   "source": [
    "La diferencia en las preferencias de plataformas entre regiones. Microsoft tiene una fuerte presencia en NA, Sony domina en Europa.\n",
    "Consolas Portátiles: En Japón, la popularidad de las consolas portátiles, como el DS, es notable, a diferencia de la tendencia hacia las consolas de sobremesa en NA y EU."
   ]
  },
  {
   "cell_type": "code",
   "execution_count": 21,
   "metadata": {
    "trusted": false
   },
   "outputs": [
    {
     "name": "stdout",
     "output_type": "stream",
     "text": [
      "Géneros principales en NA:\n",
      "genre\n",
      "Action      879.01\n",
      "Sports      684.43\n",
      "Shooter     592.24\n",
      "Platform    445.50\n",
      "Misc        407.27\n",
      "Name: na_sales, dtype: float64\n",
      "Géneros principales en EU:\n",
      "genre\n",
      "Action     519.13\n",
      "Sports     376.79\n",
      "Shooter    317.34\n",
      "Racing     236.51\n",
      "Misc       212.74\n",
      "Name: eu_sales, dtype: float64\n",
      "Géneros principales en JP:\n",
      "genre\n",
      "Role-Playing    355.41\n",
      "Action          161.43\n",
      "Sports          135.54\n",
      "Platform        130.83\n",
      "Misc            108.11\n",
      "Name: jp_sales, dtype: float64\n"
     ]
    }
   ],
   "source": [
    "# Los cinco géneros principales por región\n",
    "generos_regiones = {\n",
    "    'NA': df.groupby('genre')['na_sales'].sum().nlargest(5),\n",
    "    'EU': df.groupby('genre')['eu_sales'].sum().nlargest(5),\n",
    "    'JP': df.groupby('genre')['jp_sales'].sum().nlargest(5),\n",
    "}\n",
    "\n",
    "for region, generos in generos_regiones.items():\n",
    "    print(f\"Géneros principales en {region}:\")\n",
    "    print(generos)\n"
   ]
  },
  {
   "cell_type": "code",
   "execution_count": 22,
   "metadata": {
    "trusted": false
   },
   "outputs": [
    {
     "name": "stdout",
     "output_type": "stream",
     "text": [
      "\n",
      "Ventas totales por clasificación ESRB en NA:\n",
      "rating\n",
      "AO         1.26\n",
      "E       1292.99\n",
      "E10+     353.32\n",
      "EC         1.53\n",
      "K-A        2.56\n",
      "M        748.48\n",
      "RP         0.00\n",
      "T        759.75\n",
      "Name: na_sales, dtype: float64\n",
      "\n",
      "Ventas totales por clasificación ESRB en EU:\n",
      "rating\n",
      "AO        0.61\n",
      "E       710.25\n",
      "E10+    188.52\n",
      "EC        0.11\n",
      "K-A       0.27\n",
      "M       483.97\n",
      "RP        0.08\n",
      "T       427.03\n",
      "Name: eu_sales, dtype: float64\n",
      "\n",
      "Ventas totales por clasificación ESRB en JP:\n",
      "rating\n",
      "AO        0.00\n",
      "E       198.11\n",
      "E10+     40.20\n",
      "EC        0.00\n",
      "K-A       1.46\n",
      "M        64.24\n",
      "RP        0.00\n",
      "T       151.40\n",
      "Name: jp_sales, dtype: float64\n"
     ]
    }
   ],
   "source": [
    "# Ventas totales por clasificación de ESRB y región\n",
    "esrb_sales_by_region = {\n",
    "    'NA': df.groupby('rating')['na_sales'].sum(),\n",
    "    'EU': df.groupby('rating')['eu_sales'].sum(),\n",
    "    'JP': df.groupby('rating')['jp_sales'].sum(),\n",
    "}\n",
    "\n",
    "# Mostrar resultados\n",
    "for region, sales in esrb_sales_by_region.items():\n",
    "    print(f\"\\nVentas totales por clasificación ESRB en {region}:\")\n",
    "    print(sales)\n"
   ]
  },
  {
   "cell_type": "markdown",
   "metadata": {},
   "source": [
    "Géneros de Acción y Deportes: Son fuertes en NA, pero no dminan en Jp. Quiere decir que  los jugadores japoneses pueden preferir  como los RPG.\n",
    "RPG en Japón: son mas las preferencias , a diferencia de NA y EU, donde la acción y los deportes son mejor valorados.\n",
    "Géneros Regionales:\n",
    "Racing en Europa: Son mas populares los juegos de carreras en EU tiene un mercado con intereses diferentes en comparación con NA y JP.\n",
    "Misc: En todas las regiones, indica un interés variado, lo que sugiere que hay espacio para innovaciones en el desarrollo de juegos.\n",
    "Las diferencias en las ventas por clasificación indican que las compañías de videojuegos deben priorisar sus estrategias de desarrollo y marketing a las preferencias culturales de cada región."
   ]
  },
  {
   "cell_type": "code",
   "execution_count": 27,
   "metadata": {
    "scrolled": true,
    "trusted": false
   },
   "outputs": [
    {
     "name": "stdout",
     "output_type": "stream",
     "text": [
      "Levene statistic: 6.5039298409195325, P-value: 0.010872150926917424\n"
     ]
    }
   ],
   "source": [
    "\n",
    "# Filtrar las calificaciones para PS4 y PC\n",
    "ps4_scores = df[df['platform'] == 'PS4']['user_score']\n",
    "pc_scores = df[df['platform'] == 'PC']['user_score']\n",
    "\n",
    "# Realizar la prueba de Levene para comprobar la igualdad de varianzas\n",
    "levene_stat, levene_p_value = stats.levene(pc_scores.dropna(), ps4_scores.dropna())\n",
    "\n",
    "alpha = 0.05\n",
    "print(f\"Levene statistic: {levene_stat}, P-value: {levene_p_value}\")\n",
    "\n",
    "# Determinar si se pueden considerar varianzas iguales\n",
    "equal_var = levene_p_value > alpha"
   ]
  },
  {
   "cell_type": "code",
   "execution_count": 29,
   "metadata": {
    "trusted": false
   },
   "outputs": [
    {
     "name": "stdout",
     "output_type": "stream",
     "text": [
      "No se puede rechazar H0: las calificaciones son iguales entre Action y Sports.\n"
     ]
    }
   ],
   "source": [
    "t_stat_genre, p_value_genre = stats.ttest_ind(accion_scores.dropna(), deportes_scores.dropna(), equal_var=equal_var_genre)\n",
    "\n",
    "if p_value_genre < alpha:\n",
    "    print(\"Rechazamos H0: las calificaciones son diferentes entre Action y Sports.\")\n",
    "else:\n",
    "    print(\"No se puede rechazar H0: las calificaciones son iguales entre Action y Sports.\")"
   ]
  },
  {
   "cell_type": "markdown",
   "metadata": {},
   "source": [
    "Esto indica que no hay diferencias significativas en las calificaciones promedio de los usuarios para los géneros de Acción y Deportes.aunque estadísticamente no se encontraron diferencias, esto no significa que las experiencias de los jugadores sean idénticas el contenido del juego, la comunidad de jugadores y el marketing pueden influir en las percepciones de cada plataforma y género."
   ]
  },
  {
   "cell_type": "markdown",
   "metadata": {},
   "source": [
    "\n",
    "\n",
    "#Proyecto sprint 7\n",
    "\n",
    "En este proyecto, hemos analizado un conjunto de datos de videojuegos para identificar patrones que determinen el éxito de un juego. El análisis incluyó la evaluación de plataformas, géneros, clasificaciones de ESRB y las calificaciones de usuarios y críticos.\n",
    "\n",
    "Lanzamientos por Año:\n",
    "   - Observamos que hubo cambios en el número de lanzamientos de videojuegos a lo largo de los años,y como cambia de popularidad y cambios en la industria.\n",
    "\n",
    "Ventas por Plataforma:\n",
    "   - Las plataformas más vendidas en Norteamérica fueron \"Xbox 360\", \"PS2\", y \"Wii\". Esto indica que estas plataformas tuvieron una gran acogida en su tiempo. En cambio, plataformas más recientes como \"Xbox One\" no presentaron datos significativos, lo que podría ser un indicativo de su desempeño limitado en el mercado.\n",
    "\n",
    "Géneros de Videojuegos:\n",
    "   - Los géneros más rentables en Norteamérica fueron \"Action\" y \"Sports\", mientras que en Japón, el género \"Role-Playing\" dominó. Esto muestra diferencias culturales en las preferencias de videojuegos.\n",
    "\n",
    "Clasificaciones de ESRB:\n",
    "   - Las ventas varían significativamente según la clasificación ESRB. Las calificaciones \"E\" (Everyone) y \"M\" (Mature) mostraron ventas considerablemente altas, mientras que las clasificaciones como \"AO\" (Adults Only) apenas lograron ventas, lo que refleja la aceptación del público.\n",
    "\n",
    "Correlación entre Reseñas y Ventas:\n",
    "   - La correlación entre las reseñas de usuarios y las ventas fue baja, lo que sugiere que las ventas no dependen únicamente de las calificaciones de los usuarios. Es posible que otros factores, como la publicidad o la franquicia del juego, influyan más en las ventas.\n",
    "\n",
    "Hipotesis: \n",
    "- Se intentó probar si las calificaciones promedio de los usuarios para \"Xbox One\" y \"PC\" eran las mismas, pero debido a la ausencia de datos para Xbox One, no se pudo realizar esta comparación.\n",
    "\n",
    "\n",
    "Limitaciones:\n",
    "\n",
    "- Los datos de 2016 son incompletos, lo que puede influir en la validez de algunas de las conclusiones. Además, la falta de datos para plataformas como Xbox One limitó el análisis.\n",
    "\n",
    "Conclucion:\n",
    "\n",
    "Este proyecto demuestra la importancia de analizar datos históricos para predecir tendencias futuras en la industria de los videojuegos. Los hallazgos pueden ayudar a las empresas a identificar oportunidades en el mercado y a orientar sus estrategias de marketing para juegos nuevos.\n",
    "\n",
    "A medida que se acumulan más datos, sería útil realizar análisis más profundos, que puedan mejorar la planificación de lanzamientos futuros.\n"
   ]
  },
  {
   "cell_type": "markdown",
   "metadata": {},
   "source": [
    "\n",
    "<div class=\"alert alert-block alert-warning\">\n",
    "<b>Comentario revisor</b> <a class=\"tocSkip\"></a>\n",
    "\n",
    "En general creo que hiciste un muy buen trabajo con el proyecto, pudiste limpiar y trabajar las bases de datos de beuna manera. Además, el análisis explorario de datos fue completo al mostrar resultados relevantes que pueden ser de mucha utilidad para la toma de decisiones y desarrollaste las pruebas de hipótesis de una buena manera. No obstante, recuerda que siempre podemos mejorar y te menciono algunos puntos que debes considerar:\n",
    "\n",
    "\n",
    "\n",
    "*  Considerar eliminar registros atipicos que puedan sesgar nuestros resultados. \n",
    "    \n",
    "*  Considerar desarrollar un análisis para comprobar los supuestos de la prueba de hipótesis (varianzas iguales)\n",
    "    \n",
    "</div>"
   ]
  }
 ],
 "metadata": {
  "ExecuteTimeLog": [
   {
    "duration": 310,
    "start_time": "2024-09-19T20:56:44.754Z"
   },
   {
    "duration": 40,
    "start_time": "2024-09-19T20:56:45.307Z"
   },
   {
    "duration": 19,
    "start_time": "2024-09-19T20:57:09.300Z"
   },
   {
    "duration": 13,
    "start_time": "2024-09-19T20:57:17.419Z"
   },
   {
    "duration": 12,
    "start_time": "2024-09-19T20:57:31.240Z"
   },
   {
    "duration": 10,
    "start_time": "2024-09-19T20:57:44.288Z"
   },
   {
    "duration": 11,
    "start_time": "2024-09-19T20:57:53.846Z"
   },
   {
    "duration": 3,
    "start_time": "2024-09-19T20:58:58.144Z"
   },
   {
    "duration": 12,
    "start_time": "2024-09-19T20:59:08.457Z"
   },
   {
    "duration": 12,
    "start_time": "2024-09-19T21:00:02.521Z"
   },
   {
    "duration": 7,
    "start_time": "2024-09-19T21:12:47.553Z"
   },
   {
    "duration": 12,
    "start_time": "2024-09-19T21:13:15.773Z"
   },
   {
    "duration": 288,
    "start_time": "2024-09-20T18:20:58.523Z"
   },
   {
    "duration": 47,
    "start_time": "2024-09-20T18:20:58.992Z"
   },
   {
    "duration": 19,
    "start_time": "2024-09-20T18:20:59.315Z"
   },
   {
    "duration": 3,
    "start_time": "2024-09-20T18:21:00.163Z"
   },
   {
    "duration": 11,
    "start_time": "2024-09-20T18:21:00.899Z"
   },
   {
    "duration": 12,
    "start_time": "2024-09-20T18:21:02.554Z"
   },
   {
    "duration": 15,
    "start_time": "2024-09-20T18:21:03.564Z"
   },
   {
    "duration": 14,
    "start_time": "2024-09-20T18:22:32.946Z"
   },
   {
    "duration": 12,
    "start_time": "2024-09-20T18:22:42.116Z"
   },
   {
    "duration": 12,
    "start_time": "2024-09-20T18:22:52.240Z"
   },
   {
    "duration": 6,
    "start_time": "2024-09-20T19:55:46.928Z"
   },
   {
    "duration": 2,
    "start_time": "2024-09-20T19:55:59.629Z"
   },
   {
    "duration": 25,
    "start_time": "2024-09-20T19:56:01.787Z"
   },
   {
    "duration": 11,
    "start_time": "2024-09-20T19:56:02.172Z"
   },
   {
    "duration": 3,
    "start_time": "2024-09-20T19:56:02.552Z"
   },
   {
    "duration": 11,
    "start_time": "2024-09-20T19:56:03.566Z"
   },
   {
    "duration": 11,
    "start_time": "2024-09-20T19:56:04.214Z"
   },
   {
    "duration": 19,
    "start_time": "2024-09-20T19:56:05.168Z"
   },
   {
    "duration": 6,
    "start_time": "2024-09-20T19:56:09.248Z"
   },
   {
    "duration": 181,
    "start_time": "2024-09-20T19:56:22.158Z"
   },
   {
    "duration": 12,
    "start_time": "2024-09-20T20:01:04.575Z"
   },
   {
    "duration": 13,
    "start_time": "2024-09-20T20:01:16.273Z"
   },
   {
    "duration": 10,
    "start_time": "2024-09-20T22:18:18.199Z"
   },
   {
    "duration": 11,
    "start_time": "2024-09-20T22:18:35.099Z"
   },
   {
    "duration": 3,
    "start_time": "2024-09-20T22:19:10.925Z"
   },
   {
    "duration": 13,
    "start_time": "2024-09-20T22:19:11.497Z"
   },
   {
    "duration": 10,
    "start_time": "2024-09-20T22:19:29.495Z"
   },
   {
    "duration": 34,
    "start_time": "2024-09-20T22:19:42.052Z"
   },
   {
    "duration": 12,
    "start_time": "2024-09-20T22:19:57.000Z"
   },
   {
    "duration": 8,
    "start_time": "2024-09-20T22:20:10.129Z"
   },
   {
    "duration": 10,
    "start_time": "2024-09-20T22:21:03.714Z"
   },
   {
    "duration": 12,
    "start_time": "2024-09-20T22:21:10.830Z"
   },
   {
    "duration": 16,
    "start_time": "2024-09-20T22:21:24.996Z"
   },
   {
    "duration": 12,
    "start_time": "2024-09-20T22:21:34.435Z"
   },
   {
    "duration": 15,
    "start_time": "2024-09-20T22:21:40.940Z"
   },
   {
    "duration": 14,
    "start_time": "2024-09-20T22:21:52.302Z"
   },
   {
    "duration": 12,
    "start_time": "2024-09-20T22:22:05.414Z"
   },
   {
    "duration": 14,
    "start_time": "2024-09-20T22:22:12.391Z"
   },
   {
    "duration": 15,
    "start_time": "2024-09-20T22:24:09.497Z"
   },
   {
    "duration": 4,
    "start_time": "2024-09-20T22:25:00.411Z"
   },
   {
    "duration": 12,
    "start_time": "2024-09-20T22:25:16.367Z"
   },
   {
    "duration": 13,
    "start_time": "2024-09-20T22:25:37.971Z"
   },
   {
    "duration": 12,
    "start_time": "2024-09-20T22:27:04.427Z"
   },
   {
    "duration": 11,
    "start_time": "2024-09-20T22:28:27.141Z"
   },
   {
    "duration": 12,
    "start_time": "2024-09-20T22:28:49.597Z"
   },
   {
    "duration": 15,
    "start_time": "2024-09-20T22:29:10.078Z"
   },
   {
    "duration": 4,
    "start_time": "2024-09-20T22:29:15.741Z"
   },
   {
    "duration": 24,
    "start_time": "2024-09-20T22:29:16.175Z"
   },
   {
    "duration": 11,
    "start_time": "2024-09-20T22:29:16.831Z"
   },
   {
    "duration": 18,
    "start_time": "2024-09-20T22:29:19.303Z"
   },
   {
    "duration": 12,
    "start_time": "2024-09-20T22:29:26.539Z"
   },
   {
    "duration": 13,
    "start_time": "2024-09-20T22:29:45.521Z"
   },
   {
    "duration": 5,
    "start_time": "2024-09-20T22:31:56.719Z"
   },
   {
    "duration": 13,
    "start_time": "2024-09-20T22:32:02.270Z"
   },
   {
    "duration": 268,
    "start_time": "2024-09-23T16:26:24.543Z"
   },
   {
    "duration": 40,
    "start_time": "2024-09-23T16:26:24.972Z"
   },
   {
    "duration": 14,
    "start_time": "2024-09-23T16:26:25.161Z"
   },
   {
    "duration": 18,
    "start_time": "2024-09-23T16:26:25.562Z"
   },
   {
    "duration": 14,
    "start_time": "2024-09-23T16:26:25.943Z"
   },
   {
    "duration": 11,
    "start_time": "2024-09-23T17:08:34.640Z"
   },
   {
    "duration": 13,
    "start_time": "2024-09-23T17:39:54.763Z"
   },
   {
    "duration": 13,
    "start_time": "2024-09-23T17:40:12.003Z"
   },
   {
    "duration": 13,
    "start_time": "2024-09-23T17:40:25.843Z"
   },
   {
    "duration": 10,
    "start_time": "2024-09-23T17:40:53.094Z"
   },
   {
    "duration": 178,
    "start_time": "2024-09-23T17:41:18.092Z"
   },
   {
    "duration": 13,
    "start_time": "2024-09-23T17:41:40.551Z"
   },
   {
    "duration": 12,
    "start_time": "2024-09-23T17:41:54.469Z"
   },
   {
    "duration": 13,
    "start_time": "2024-09-23T17:42:32.552Z"
   },
   {
    "duration": 15,
    "start_time": "2024-09-23T17:43:25.167Z"
   },
   {
    "duration": 14,
    "start_time": "2024-09-23T17:43:32.157Z"
   },
   {
    "duration": 13,
    "start_time": "2024-09-23T17:43:45.689Z"
   },
   {
    "duration": 12,
    "start_time": "2024-09-23T17:43:46.585Z"
   },
   {
    "duration": 13,
    "start_time": "2024-09-23T17:43:55.081Z"
   },
   {
    "duration": 11,
    "start_time": "2024-09-23T17:44:03.068Z"
   },
   {
    "duration": 14,
    "start_time": "2024-09-23T17:44:17.979Z"
   },
   {
    "duration": 14,
    "start_time": "2024-09-23T17:44:42.061Z"
   },
   {
    "duration": 19,
    "start_time": "2024-09-23T17:44:49.795Z"
   },
   {
    "duration": 11,
    "start_time": "2024-09-23T17:44:58.676Z"
   },
   {
    "duration": 14,
    "start_time": "2024-09-23T17:45:01.495Z"
   },
   {
    "duration": 13,
    "start_time": "2024-09-23T17:45:11.804Z"
   },
   {
    "duration": 12,
    "start_time": "2024-09-23T17:45:58.448Z"
   },
   {
    "duration": 13,
    "start_time": "2024-09-23T17:52:44.142Z"
   },
   {
    "duration": 17,
    "start_time": "2024-09-23T17:52:54.426Z"
   },
   {
    "duration": 17,
    "start_time": "2024-09-23T17:53:01.380Z"
   },
   {
    "duration": 20,
    "start_time": "2024-09-23T17:53:13.837Z"
   },
   {
    "duration": 24,
    "start_time": "2024-09-23T18:00:13.759Z"
   },
   {
    "duration": 33,
    "start_time": "2024-09-23T18:01:00.378Z"
   },
   {
    "duration": 21,
    "start_time": "2024-09-23T18:01:08.287Z"
   },
   {
    "duration": 4,
    "start_time": "2024-09-23T18:01:46.157Z"
   },
   {
    "duration": 13,
    "start_time": "2024-09-23T18:02:02.099Z"
   },
   {
    "duration": 14,
    "start_time": "2024-09-23T18:04:19.083Z"
   },
   {
    "duration": 13,
    "start_time": "2024-09-23T18:05:15.976Z"
   },
   {
    "duration": 17,
    "start_time": "2024-09-23T18:05:40.155Z"
   },
   {
    "duration": 699,
    "start_time": "2024-09-23T18:05:49.903Z"
   },
   {
    "duration": 75,
    "start_time": "2024-09-23T18:10:17.250Z"
   },
   {
    "duration": 14,
    "start_time": "2024-09-23T18:11:57.756Z"
   },
   {
    "duration": 13,
    "start_time": "2024-09-23T18:12:09.352Z"
   },
   {
    "duration": 12,
    "start_time": "2024-09-23T18:12:17.355Z"
   },
   {
    "duration": 13,
    "start_time": "2024-09-23T18:12:24.478Z"
   },
   {
    "duration": 74,
    "start_time": "2024-09-23T18:12:32.963Z"
   },
   {
    "duration": 16,
    "start_time": "2024-09-23T18:16:00.787Z"
   },
   {
    "duration": 13,
    "start_time": "2024-09-23T18:16:16.101Z"
   },
   {
    "duration": 20,
    "start_time": "2024-09-23T18:16:28.350Z"
   },
   {
    "duration": 75,
    "start_time": "2024-09-23T18:16:47.942Z"
   },
   {
    "duration": 75,
    "start_time": "2024-09-23T18:18:30.672Z"
   },
   {
    "duration": 8,
    "start_time": "2024-09-23T18:19:03.481Z"
   },
   {
    "duration": 16,
    "start_time": "2024-09-23T18:19:26.282Z"
   },
   {
    "duration": 17,
    "start_time": "2024-09-23T18:25:00.868Z"
   },
   {
    "duration": 12,
    "start_time": "2024-09-23T18:28:46.592Z"
   },
   {
    "duration": 16,
    "start_time": "2024-09-23T18:28:53.353Z"
   },
   {
    "duration": 286,
    "start_time": "2024-09-23T18:33:32.764Z"
   },
   {
    "duration": 24,
    "start_time": "2024-09-23T18:33:33.255Z"
   },
   {
    "duration": 11,
    "start_time": "2024-09-23T18:33:33.896Z"
   },
   {
    "duration": 698,
    "start_time": "2024-09-23T18:33:34.781Z"
   },
   {
    "duration": 0,
    "start_time": "2024-09-23T18:33:35.480Z"
   },
   {
    "duration": 52,
    "start_time": "2024-09-23T18:33:41.467Z"
   },
   {
    "duration": 12,
    "start_time": "2024-09-23T18:35:23.268Z"
   },
   {
    "duration": 13,
    "start_time": "2024-09-23T18:35:30.367Z"
   },
   {
    "duration": 31,
    "start_time": "2024-09-23T18:36:53.802Z"
   },
   {
    "duration": 32,
    "start_time": "2024-09-23T18:38:17.027Z"
   },
   {
    "duration": 30,
    "start_time": "2024-09-23T18:38:34.676Z"
   },
   {
    "duration": 31,
    "start_time": "2024-09-23T18:39:00.816Z"
   },
   {
    "duration": 12,
    "start_time": "2024-09-23T18:39:05.180Z"
   },
   {
    "duration": 3,
    "start_time": "2024-09-23T18:39:52.385Z"
   },
   {
    "duration": 11,
    "start_time": "2024-09-23T18:40:02.115Z"
   },
   {
    "duration": 11,
    "start_time": "2024-09-23T18:40:45.579Z"
   },
   {
    "duration": 102,
    "start_time": "2024-09-23T18:41:03.409Z"
   },
   {
    "duration": 48,
    "start_time": "2024-09-23T18:41:27.746Z"
   },
   {
    "duration": 32,
    "start_time": "2024-09-23T18:42:06.420Z"
   },
   {
    "duration": 11,
    "start_time": "2024-09-23T18:42:06.839Z"
   },
   {
    "duration": 11,
    "start_time": "2024-09-23T18:42:07.517Z"
   },
   {
    "duration": 46,
    "start_time": "2024-09-23T18:42:08.145Z"
   },
   {
    "duration": 7,
    "start_time": "2024-09-23T18:42:46.047Z"
   },
   {
    "duration": 13,
    "start_time": "2024-09-23T18:42:53.928Z"
   },
   {
    "duration": 13,
    "start_time": "2024-09-23T18:43:09.320Z"
   },
   {
    "duration": 13,
    "start_time": "2024-09-23T18:43:48.578Z"
   },
   {
    "duration": 13,
    "start_time": "2024-09-23T18:44:44.584Z"
   },
   {
    "duration": 14,
    "start_time": "2024-09-23T18:44:59.846Z"
   },
   {
    "duration": 14,
    "start_time": "2024-09-23T18:46:25.610Z"
   },
   {
    "duration": 14,
    "start_time": "2024-09-23T18:47:32.447Z"
   },
   {
    "duration": 26,
    "start_time": "2024-09-23T18:48:21.504Z"
   },
   {
    "duration": 8,
    "start_time": "2024-09-23T18:48:56.719Z"
   },
   {
    "duration": 16,
    "start_time": "2024-09-23T18:49:24.415Z"
   },
   {
    "duration": 6,
    "start_time": "2024-09-23T18:49:30.024Z"
   },
   {
    "duration": 3,
    "start_time": "2024-09-23T18:49:33.054Z"
   },
   {
    "duration": 10,
    "start_time": "2024-09-23T18:49:40.195Z"
   },
   {
    "duration": 14,
    "start_time": "2024-09-23T18:50:10.655Z"
   },
   {
    "duration": 12,
    "start_time": "2024-09-23T18:50:17.167Z"
   },
   {
    "duration": 14,
    "start_time": "2024-09-23T18:50:27.667Z"
   },
   {
    "duration": 5,
    "start_time": "2024-09-23T18:52:02.451Z"
   },
   {
    "duration": 32,
    "start_time": "2024-09-23T18:57:40.563Z"
   },
   {
    "duration": 10,
    "start_time": "2024-09-23T18:57:40.750Z"
   },
   {
    "duration": 11,
    "start_time": "2024-09-23T18:57:41.056Z"
   },
   {
    "duration": 50,
    "start_time": "2024-09-23T18:57:41.270Z"
   },
   {
    "duration": 50,
    "start_time": "2024-09-23T18:57:45.747Z"
   },
   {
    "duration": 46,
    "start_time": "2024-09-23T18:57:56.696Z"
   },
   {
    "duration": 13,
    "start_time": "2024-09-23T18:58:05.754Z"
   },
   {
    "duration": 11,
    "start_time": "2024-09-23T18:59:14.691Z"
   },
   {
    "duration": 11,
    "start_time": "2024-09-23T18:59:20.162Z"
   },
   {
    "duration": 49,
    "start_time": "2024-09-23T18:59:40.190Z"
   },
   {
    "duration": 48,
    "start_time": "2024-09-23T19:00:07.731Z"
   },
   {
    "duration": 31,
    "start_time": "2024-09-23T19:00:19.463Z"
   },
   {
    "duration": 11,
    "start_time": "2024-09-23T19:00:19.911Z"
   },
   {
    "duration": 10,
    "start_time": "2024-09-23T19:00:20.457Z"
   },
   {
    "duration": 49,
    "start_time": "2024-09-23T19:00:54.672Z"
   },
   {
    "duration": 4,
    "start_time": "2024-09-23T19:03:47.673Z"
   },
   {
    "duration": 49,
    "start_time": "2024-09-23T19:03:57.506Z"
   },
   {
    "duration": 32,
    "start_time": "2024-09-23T19:04:23.484Z"
   },
   {
    "duration": 10,
    "start_time": "2024-09-23T19:04:24.774Z"
   },
   {
    "duration": 11,
    "start_time": "2024-09-23T19:04:34.305Z"
   },
   {
    "duration": 12,
    "start_time": "2024-09-23T19:05:28.647Z"
   },
   {
    "duration": 11,
    "start_time": "2024-09-23T19:05:42.748Z"
   },
   {
    "duration": 13,
    "start_time": "2024-09-23T19:06:23.197Z"
   },
   {
    "duration": 12,
    "start_time": "2024-09-23T19:06:30.920Z"
   },
   {
    "duration": 12,
    "start_time": "2024-09-23T19:06:42.304Z"
   },
   {
    "duration": 28,
    "start_time": "2024-09-23T19:06:52.757Z"
   },
   {
    "duration": 11,
    "start_time": "2024-09-23T19:07:10.637Z"
   },
   {
    "duration": 11,
    "start_time": "2024-09-23T19:07:18.640Z"
   },
   {
    "duration": 7,
    "start_time": "2024-09-23T19:08:09.754Z"
   },
   {
    "duration": 7,
    "start_time": "2024-09-23T19:08:24.189Z"
   },
   {
    "duration": 13,
    "start_time": "2024-09-23T19:08:31.499Z"
   },
   {
    "duration": 11,
    "start_time": "2024-09-23T19:09:08.308Z"
   },
   {
    "duration": 11,
    "start_time": "2024-09-23T19:09:17.654Z"
   },
   {
    "duration": 4,
    "start_time": "2024-09-23T19:09:26.670Z"
   },
   {
    "duration": 31,
    "start_time": "2024-09-23T19:10:32.954Z"
   },
   {
    "duration": 10,
    "start_time": "2024-09-23T19:10:33.587Z"
   },
   {
    "duration": 3,
    "start_time": "2024-09-23T19:10:34.143Z"
   },
   {
    "duration": 13,
    "start_time": "2024-09-23T19:10:35.650Z"
   },
   {
    "duration": 31,
    "start_time": "2024-09-23T19:10:44.192Z"
   },
   {
    "duration": 11,
    "start_time": "2024-09-23T19:10:44.883Z"
   },
   {
    "duration": 4,
    "start_time": "2024-09-23T19:10:45.474Z"
   },
   {
    "duration": 12,
    "start_time": "2024-09-23T19:10:47.810Z"
   },
   {
    "duration": 12,
    "start_time": "2024-09-23T19:11:51.973Z"
   },
   {
    "duration": 18,
    "start_time": "2024-09-23T19:12:11.369Z"
   },
   {
    "duration": 13,
    "start_time": "2024-09-23T19:13:19.265Z"
   },
   {
    "duration": 9,
    "start_time": "2024-09-23T19:15:33.136Z"
   },
   {
    "duration": 2521,
    "start_time": "2024-09-23T19:21:54.862Z"
   },
   {
    "duration": 14,
    "start_time": "2024-09-23T19:22:28.755Z"
   },
   {
    "duration": 19,
    "start_time": "2024-09-23T19:54:52.533Z"
   },
   {
    "duration": 3,
    "start_time": "2024-09-23T19:55:05.355Z"
   },
   {
    "duration": 13,
    "start_time": "2024-09-23T19:55:21.215Z"
   },
   {
    "duration": 18,
    "start_time": "2024-09-23T19:55:45.427Z"
   },
   {
    "duration": 14,
    "start_time": "2024-09-23T19:56:11.224Z"
   },
   {
    "duration": 15,
    "start_time": "2024-09-23T19:56:43.764Z"
   },
   {
    "duration": 5,
    "start_time": "2024-09-23T19:57:10.765Z"
   },
   {
    "duration": 7,
    "start_time": "2024-09-23T19:57:27.419Z"
   },
   {
    "duration": 6,
    "start_time": "2024-09-23T19:58:28.362Z"
   },
   {
    "duration": 11,
    "start_time": "2024-09-23T20:00:13.109Z"
   },
   {
    "duration": 12,
    "start_time": "2024-09-23T20:00:31.467Z"
   },
   {
    "duration": 13,
    "start_time": "2024-09-23T20:01:00.443Z"
   },
   {
    "duration": 13,
    "start_time": "2024-09-23T20:01:08.812Z"
   },
   {
    "duration": 11,
    "start_time": "2024-09-23T20:01:14.731Z"
   },
   {
    "duration": 13,
    "start_time": "2024-09-23T20:01:29.775Z"
   },
   {
    "duration": 12,
    "start_time": "2024-09-23T20:02:07.376Z"
   },
   {
    "duration": 32,
    "start_time": "2024-09-23T20:02:12.717Z"
   },
   {
    "duration": 18,
    "start_time": "2024-09-23T20:02:13.105Z"
   },
   {
    "duration": 7,
    "start_time": "2024-09-23T20:02:13.741Z"
   },
   {
    "duration": 13,
    "start_time": "2024-09-23T20:02:14.312Z"
   },
   {
    "duration": 14,
    "start_time": "2024-09-23T20:02:40.763Z"
   },
   {
    "duration": 91,
    "start_time": "2024-09-23T20:04:14.388Z"
   },
   {
    "duration": 15,
    "start_time": "2024-09-23T20:04:30.170Z"
   },
   {
    "duration": 7,
    "start_time": "2024-09-23T20:04:34.855Z"
   },
   {
    "duration": 15,
    "start_time": "2024-09-23T20:05:13.987Z"
   },
   {
    "duration": 7,
    "start_time": "2024-09-23T20:05:14.596Z"
   },
   {
    "duration": 12,
    "start_time": "2024-09-23T20:05:15.145Z"
   },
   {
    "duration": 13,
    "start_time": "2024-09-23T20:05:49.603Z"
   },
   {
    "duration": 4,
    "start_time": "2024-09-23T20:06:28.644Z"
   },
   {
    "duration": 6,
    "start_time": "2024-09-23T20:06:41.631Z"
   },
   {
    "duration": 5,
    "start_time": "2024-09-23T20:07:02.905Z"
   },
   {
    "duration": 22,
    "start_time": "2024-09-23T20:09:02.943Z"
   },
   {
    "duration": 7,
    "start_time": "2024-09-23T20:09:09.098Z"
   },
   {
    "duration": 6,
    "start_time": "2024-09-23T20:09:33.592Z"
   },
   {
    "duration": 7,
    "start_time": "2024-09-23T20:09:46.714Z"
   },
   {
    "duration": 6,
    "start_time": "2024-09-23T20:09:52.232Z"
   },
   {
    "duration": 5,
    "start_time": "2024-09-23T20:10:00.144Z"
   },
   {
    "duration": 6,
    "start_time": "2024-09-23T20:10:04.884Z"
   },
   {
    "duration": 6,
    "start_time": "2024-09-23T20:10:10.086Z"
   },
   {
    "duration": 8,
    "start_time": "2024-09-23T20:10:17.561Z"
   },
   {
    "duration": 1966,
    "start_time": "2024-09-23T20:11:08.713Z"
   },
   {
    "duration": 140,
    "start_time": "2024-09-23T20:12:41.045Z"
   },
   {
    "duration": 33,
    "start_time": "2024-09-23T20:14:51.241Z"
   },
   {
    "duration": 17,
    "start_time": "2024-09-23T20:14:51.483Z"
   },
   {
    "duration": 7,
    "start_time": "2024-09-23T20:14:51.706Z"
   },
   {
    "duration": 13,
    "start_time": "2024-09-23T20:14:51.890Z"
   },
   {
    "duration": 13,
    "start_time": "2024-09-23T20:14:52.049Z"
   },
   {
    "duration": 7,
    "start_time": "2024-09-23T20:14:52.188Z"
   },
   {
    "duration": 7,
    "start_time": "2024-09-23T20:14:52.337Z"
   },
   {
    "duration": 2081,
    "start_time": "2024-09-23T20:14:52.497Z"
   },
   {
    "duration": 146,
    "start_time": "2024-09-23T20:14:54.581Z"
   },
   {
    "duration": 13,
    "start_time": "2024-09-23T20:19:04.918Z"
   },
   {
    "duration": 33,
    "start_time": "2024-09-23T20:19:15.864Z"
   },
   {
    "duration": 18,
    "start_time": "2024-09-23T20:19:16.181Z"
   },
   {
    "duration": 8,
    "start_time": "2024-09-23T20:19:16.765Z"
   },
   {
    "duration": 13,
    "start_time": "2024-09-23T20:19:17.250Z"
   },
   {
    "duration": 12,
    "start_time": "2024-09-23T20:19:17.567Z"
   },
   {
    "duration": 6,
    "start_time": "2024-09-23T20:19:18.053Z"
   },
   {
    "duration": 7,
    "start_time": "2024-09-23T20:19:18.426Z"
   },
   {
    "duration": 2052,
    "start_time": "2024-09-23T20:19:18.707Z"
   },
   {
    "duration": 147,
    "start_time": "2024-09-23T20:19:20.761Z"
   },
   {
    "duration": 14,
    "start_time": "2024-09-23T20:20:41.817Z"
   },
   {
    "duration": 13,
    "start_time": "2024-09-23T20:20:48.356Z"
   },
   {
    "duration": 12,
    "start_time": "2024-09-23T20:20:53.322Z"
   },
   {
    "duration": 13,
    "start_time": "2024-09-23T20:21:00.297Z"
   },
   {
    "duration": 12,
    "start_time": "2024-09-23T20:21:03.171Z"
   },
   {
    "duration": 14,
    "start_time": "2024-09-23T20:21:08.260Z"
   },
   {
    "duration": 33,
    "start_time": "2024-09-23T20:21:11.613Z"
   },
   {
    "duration": 18,
    "start_time": "2024-09-23T20:21:12.286Z"
   },
   {
    "duration": 8,
    "start_time": "2024-09-23T20:21:12.958Z"
   },
   {
    "duration": 13,
    "start_time": "2024-09-23T20:21:14.154Z"
   },
   {
    "duration": 12,
    "start_time": "2024-09-23T20:21:18.045Z"
   },
   {
    "duration": 6,
    "start_time": "2024-09-23T20:22:20.707Z"
   },
   {
    "duration": 7,
    "start_time": "2024-09-23T20:22:46.326Z"
   },
   {
    "duration": 13,
    "start_time": "2024-09-23T20:22:53.321Z"
   },
   {
    "duration": 4,
    "start_time": "2024-09-23T20:23:09.193Z"
   },
   {
    "duration": 13,
    "start_time": "2024-09-23T20:23:19.014Z"
   },
   {
    "duration": 17,
    "start_time": "2024-09-23T20:23:42.761Z"
   },
   {
    "duration": 18,
    "start_time": "2024-09-23T20:25:11.366Z"
   },
   {
    "duration": 16,
    "start_time": "2024-09-23T20:25:32.456Z"
   },
   {
    "duration": 23,
    "start_time": "2024-09-23T20:25:45.013Z"
   },
   {
    "duration": 20,
    "start_time": "2024-09-23T20:27:48.076Z"
   },
   {
    "duration": 22,
    "start_time": "2024-09-23T20:28:07.325Z"
   },
   {
    "duration": 18,
    "start_time": "2024-09-23T20:28:18.241Z"
   },
   {
    "duration": 17,
    "start_time": "2024-09-23T20:28:40.216Z"
   },
   {
    "duration": 249,
    "start_time": "2024-09-23T20:32:39.459Z"
   },
   {
    "duration": 246,
    "start_time": "2024-09-23T20:37:13.854Z"
   },
   {
    "duration": 6,
    "start_time": "2024-09-23T20:40:28.693Z"
   },
   {
    "duration": 5,
    "start_time": "2024-09-23T21:15:11.566Z"
   },
   {
    "duration": 5,
    "start_time": "2024-09-23T21:15:14.979Z"
   },
   {
    "duration": 6,
    "start_time": "2024-09-23T21:17:43.927Z"
   },
   {
    "duration": 7,
    "start_time": "2024-09-23T21:22:09.013Z"
   },
   {
    "duration": 7,
    "start_time": "2024-09-23T21:22:18.037Z"
   },
   {
    "duration": 2012,
    "start_time": "2024-09-23T21:22:46.558Z"
   },
   {
    "duration": 21,
    "start_time": "2024-09-23T21:23:46.872Z"
   },
   {
    "duration": 2137,
    "start_time": "2024-09-23T21:23:58.289Z"
   },
   {
    "duration": 91,
    "start_time": "2024-09-23T21:25:22.647Z"
   },
   {
    "duration": 18,
    "start_time": "2024-09-23T21:25:22.852Z"
   },
   {
    "duration": 21,
    "start_time": "2024-09-23T21:25:23.038Z"
   },
   {
    "duration": 13,
    "start_time": "2024-09-23T21:25:23.174Z"
   },
   {
    "duration": 6,
    "start_time": "2024-09-23T21:25:23.486Z"
   },
   {
    "duration": 7,
    "start_time": "2024-09-23T21:25:23.625Z"
   },
   {
    "duration": 1976,
    "start_time": "2024-09-23T21:25:23.798Z"
   },
   {
    "duration": 151,
    "start_time": "2024-09-23T21:25:25.776Z"
   },
   {
    "duration": 417,
    "start_time": "2024-09-23T21:26:17.079Z"
   },
   {
    "duration": 21,
    "start_time": "2024-09-23T21:27:50.026Z"
   },
   {
    "duration": 18,
    "start_time": "2024-09-23T21:28:02.896Z"
   },
   {
    "duration": 17,
    "start_time": "2024-09-23T21:28:17.071Z"
   },
   {
    "duration": 255,
    "start_time": "2024-09-23T21:28:25.260Z"
   },
   {
    "duration": 14,
    "start_time": "2024-09-23T21:28:28.652Z"
   },
   {
    "duration": 266,
    "start_time": "2024-09-23T21:29:17.007Z"
   },
   {
    "duration": 34,
    "start_time": "2024-09-23T21:29:20.475Z"
   },
   {
    "duration": 27,
    "start_time": "2024-09-23T21:29:21.016Z"
   },
   {
    "duration": 18,
    "start_time": "2024-09-23T21:29:21.422Z"
   },
   {
    "duration": 13,
    "start_time": "2024-09-23T21:29:21.854Z"
   },
   {
    "duration": 253,
    "start_time": "2024-09-23T21:29:22.699Z"
   },
   {
    "duration": 15,
    "start_time": "2024-09-23T21:29:27.444Z"
   },
   {
    "duration": 6,
    "start_time": "2024-09-23T21:29:51.882Z"
   },
   {
    "duration": 4,
    "start_time": "2024-09-23T21:31:40.662Z"
   },
   {
    "duration": 1939,
    "start_time": "2024-09-23T21:31:48.192Z"
   },
   {
    "duration": 2104,
    "start_time": "2024-09-23T21:32:02.405Z"
   },
   {
    "duration": 105,
    "start_time": "2024-09-23T21:36:07.023Z"
   },
   {
    "duration": 2076,
    "start_time": "2024-09-23T21:36:21.958Z"
   },
   {
    "duration": 5,
    "start_time": "2024-09-23T21:36:39.051Z"
   },
   {
    "duration": 6,
    "start_time": "2024-09-23T21:36:45.212Z"
   },
   {
    "duration": 308,
    "start_time": "2024-09-23T21:47:03.085Z"
   },
   {
    "duration": 217,
    "start_time": "2024-09-23T21:47:20.509Z"
   },
   {
    "duration": 6,
    "start_time": "2024-09-23T21:48:01.976Z"
   },
   {
    "duration": 14,
    "start_time": "2024-09-23T21:49:29.745Z"
   },
   {
    "duration": 254,
    "start_time": "2024-09-23T21:49:44.790Z"
   },
   {
    "duration": 16,
    "start_time": "2024-09-23T21:51:14.561Z"
   },
   {
    "duration": 224,
    "start_time": "2024-09-23T21:51:24.347Z"
   },
   {
    "duration": 222,
    "start_time": "2024-09-23T21:51:56.817Z"
   },
   {
    "duration": 20,
    "start_time": "2024-09-23T21:53:13.359Z"
   },
   {
    "duration": 15,
    "start_time": "2024-09-23T21:54:03.005Z"
   },
   {
    "duration": 15,
    "start_time": "2024-09-23T21:54:31.611Z"
   },
   {
    "duration": 16,
    "start_time": "2024-09-23T21:54:49.204Z"
   },
   {
    "duration": 258,
    "start_time": "2024-09-23T22:00:43.258Z"
   },
   {
    "duration": 14,
    "start_time": "2024-09-23T22:01:33.577Z"
   },
   {
    "duration": 123,
    "start_time": "2024-09-23T22:01:54.004Z"
   },
   {
    "duration": 1857,
    "start_time": "2024-09-23T22:04:05.116Z"
   },
   {
    "duration": 4,
    "start_time": "2024-09-23T22:04:58.177Z"
   },
   {
    "duration": 5,
    "start_time": "2024-09-23T22:05:31.062Z"
   },
   {
    "duration": 16,
    "start_time": "2024-09-23T22:05:49.388Z"
   },
   {
    "duration": 5,
    "start_time": "2024-09-23T22:06:04.664Z"
   },
   {
    "duration": 4,
    "start_time": "2024-09-23T22:06:28.812Z"
   },
   {
    "duration": 390,
    "start_time": "2024-09-23T22:06:39.791Z"
   },
   {
    "duration": 123,
    "start_time": "2024-09-23T22:06:57.445Z"
   },
   {
    "duration": 1739,
    "start_time": "2024-09-23T22:07:45.432Z"
   },
   {
    "duration": 246,
    "start_time": "2024-09-23T22:11:23.803Z"
   },
   {
    "duration": 223,
    "start_time": "2024-09-23T22:12:27.237Z"
   },
   {
    "duration": 2187,
    "start_time": "2024-09-23T22:13:26.738Z"
   },
   {
    "duration": 2147,
    "start_time": "2024-09-23T22:13:53.059Z"
   },
   {
    "duration": 137,
    "start_time": "2024-09-23T22:14:19.196Z"
   },
   {
    "duration": 221,
    "start_time": "2024-09-23T22:14:45.731Z"
   },
   {
    "duration": 2115,
    "start_time": "2024-09-23T22:16:35.294Z"
   },
   {
    "duration": 2088,
    "start_time": "2024-09-23T22:16:44.798Z"
   },
   {
    "duration": 2195,
    "start_time": "2024-09-23T22:16:56.967Z"
   },
   {
    "duration": 2199,
    "start_time": "2024-09-23T22:17:08.995Z"
   },
   {
    "duration": 1992,
    "start_time": "2024-09-23T22:17:24.022Z"
   },
   {
    "duration": 21,
    "start_time": "2024-09-23T22:20:19.785Z"
   },
   {
    "duration": 222,
    "start_time": "2024-09-23T22:23:35.024Z"
   },
   {
    "duration": 265,
    "start_time": "2024-09-23T22:41:26.470Z"
   },
   {
    "duration": 237,
    "start_time": "2024-09-23T22:41:42.859Z"
   },
   {
    "duration": 237,
    "start_time": "2024-09-23T22:41:48.273Z"
   },
   {
    "duration": 420,
    "start_time": "2024-09-23T22:41:55.480Z"
   },
   {
    "duration": 203,
    "start_time": "2024-09-23T22:43:45.223Z"
   },
   {
    "duration": 212,
    "start_time": "2024-09-23T22:44:30.423Z"
   },
   {
    "duration": 1631,
    "start_time": "2024-09-23T22:45:10.549Z"
   },
   {
    "duration": 7,
    "start_time": "2024-09-23T22:47:48.140Z"
   },
   {
    "duration": 30,
    "start_time": "2024-09-23T22:50:45.274Z"
   },
   {
    "duration": 17,
    "start_time": "2024-09-23T22:50:45.447Z"
   },
   {
    "duration": 18,
    "start_time": "2024-09-23T22:50:45.600Z"
   },
   {
    "duration": 12,
    "start_time": "2024-09-23T22:50:45.747Z"
   },
   {
    "duration": 262,
    "start_time": "2024-09-23T22:50:46.234Z"
   },
   {
    "duration": 214,
    "start_time": "2024-09-23T22:50:46.557Z"
   },
   {
    "duration": 1808,
    "start_time": "2024-09-23T22:50:46.773Z"
   },
   {
    "duration": 7,
    "start_time": "2024-09-23T22:50:48.584Z"
   },
   {
    "duration": 1700,
    "start_time": "2024-09-23T22:56:03.552Z"
   },
   {
    "duration": 1701,
    "start_time": "2024-09-23T22:56:15.282Z"
   },
   {
    "duration": 4,
    "start_time": "2024-09-24T00:00:18.031Z"
   },
   {
    "duration": 6,
    "start_time": "2024-09-24T00:02:03.345Z"
   },
   {
    "duration": 391,
    "start_time": "2024-09-24T00:02:58.574Z"
   },
   {
    "duration": 5,
    "start_time": "2024-09-24T00:09:02.781Z"
   },
   {
    "duration": 143,
    "start_time": "2024-09-24T00:11:55.913Z"
   },
   {
    "duration": 338,
    "start_time": "2024-09-24T00:12:33.944Z"
   },
   {
    "duration": 10,
    "start_time": "2024-09-24T00:19:05.568Z"
   },
   {
    "duration": 11,
    "start_time": "2024-09-24T00:19:21.907Z"
   },
   {
    "duration": 12,
    "start_time": "2024-09-24T00:19:32.636Z"
   },
   {
    "duration": 161,
    "start_time": "2024-09-24T00:19:47.259Z"
   },
   {
    "duration": 11,
    "start_time": "2024-09-24T00:23:52.748Z"
   },
   {
    "duration": 5,
    "start_time": "2024-09-24T00:25:04.261Z"
   },
   {
    "duration": 4,
    "start_time": "2024-09-24T00:25:21.135Z"
   },
   {
    "duration": 5,
    "start_time": "2024-09-24T00:25:25.703Z"
   },
   {
    "duration": 4,
    "start_time": "2024-09-24T00:25:29.272Z"
   },
   {
    "duration": 14,
    "start_time": "2024-09-24T00:25:40.904Z"
   },
   {
    "duration": 10,
    "start_time": "2024-09-24T00:26:04.859Z"
   },
   {
    "duration": 10,
    "start_time": "2024-09-24T00:27:49.818Z"
   },
   {
    "duration": 10,
    "start_time": "2024-09-24T00:31:12.119Z"
   },
   {
    "duration": 12,
    "start_time": "2024-09-24T00:31:19.778Z"
   },
   {
    "duration": 11,
    "start_time": "2024-09-24T00:32:29.784Z"
   },
   {
    "duration": 11,
    "start_time": "2024-09-24T00:33:12.226Z"
   },
   {
    "duration": 10,
    "start_time": "2024-09-24T00:33:52.743Z"
   },
   {
    "duration": 8,
    "start_time": "2024-09-24T00:43:02.315Z"
   },
   {
    "duration": 8,
    "start_time": "2024-09-24T00:45:18.084Z"
   },
   {
    "duration": 4,
    "start_time": "2024-09-24T00:45:46.623Z"
   },
   {
    "duration": 30,
    "start_time": "2024-09-24T00:46:35.572Z"
   },
   {
    "duration": 19,
    "start_time": "2024-09-24T00:46:35.767Z"
   },
   {
    "duration": 18,
    "start_time": "2024-09-24T00:46:35.970Z"
   },
   {
    "duration": 12,
    "start_time": "2024-09-24T00:46:36.124Z"
   },
   {
    "duration": 249,
    "start_time": "2024-09-24T00:46:36.649Z"
   },
   {
    "duration": 216,
    "start_time": "2024-09-24T00:46:36.980Z"
   },
   {
    "duration": 1610,
    "start_time": "2024-09-24T00:46:37.355Z"
   },
   {
    "duration": 8,
    "start_time": "2024-09-24T00:46:38.969Z"
   },
   {
    "duration": 4,
    "start_time": "2024-09-24T00:46:38.979Z"
   },
   {
    "duration": 408,
    "start_time": "2024-09-24T00:46:38.985Z"
   },
   {
    "duration": 156,
    "start_time": "2024-09-24T00:46:39.395Z"
   },
   {
    "duration": 167,
    "start_time": "2024-09-24T00:46:39.553Z"
   },
   {
    "duration": 14,
    "start_time": "2024-09-24T00:46:39.722Z"
   },
   {
    "duration": 10,
    "start_time": "2024-09-24T00:46:39.772Z"
   },
   {
    "duration": 10,
    "start_time": "2024-09-24T00:46:40.089Z"
   },
   {
    "duration": 3,
    "start_time": "2024-09-24T00:46:40.475Z"
   },
   {
    "duration": 7,
    "start_time": "2024-09-24T00:47:16.870Z"
   },
   {
    "duration": 3,
    "start_time": "2024-09-24T00:47:36.501Z"
   },
   {
    "duration": 3,
    "start_time": "2024-09-24T00:47:57.787Z"
   },
   {
    "duration": 10,
    "start_time": "2024-09-24T00:48:35.516Z"
   },
   {
    "duration": 7,
    "start_time": "2024-09-24T00:48:51.917Z"
   },
   {
    "duration": 3,
    "start_time": "2024-09-24T00:48:56.695Z"
   },
   {
    "duration": 3,
    "start_time": "2024-09-24T00:49:11.494Z"
   },
   {
    "duration": 4,
    "start_time": "2024-09-24T00:49:38.510Z"
   },
   {
    "duration": 4,
    "start_time": "2024-09-24T00:49:50.453Z"
   },
   {
    "duration": 4,
    "start_time": "2024-09-24T00:50:57.253Z"
   },
   {
    "duration": 3,
    "start_time": "2024-09-24T00:51:02.503Z"
   },
   {
    "duration": 6,
    "start_time": "2024-09-24T00:51:31.722Z"
   },
   {
    "duration": 5,
    "start_time": "2024-09-24T00:52:00.638Z"
   },
   {
    "duration": 7,
    "start_time": "2024-09-24T00:52:20.775Z"
   },
   {
    "duration": 6,
    "start_time": "2024-09-24T00:52:32.653Z"
   },
   {
    "duration": 7,
    "start_time": "2024-09-24T00:52:45.611Z"
   },
   {
    "duration": 32,
    "start_time": "2024-09-24T01:02:36.363Z"
   },
   {
    "duration": 17,
    "start_time": "2024-09-24T01:02:36.781Z"
   },
   {
    "duration": 17,
    "start_time": "2024-09-24T01:02:37.147Z"
   },
   {
    "duration": 13,
    "start_time": "2024-09-24T01:02:41.840Z"
   },
   {
    "duration": 407,
    "start_time": "2024-09-24T01:02:44.071Z"
   },
   {
    "duration": 232,
    "start_time": "2024-09-24T01:02:44.842Z"
   },
   {
    "duration": 1647,
    "start_time": "2024-09-24T01:02:45.251Z"
   },
   {
    "duration": 7,
    "start_time": "2024-09-24T01:02:46.900Z"
   },
   {
    "duration": 4,
    "start_time": "2024-09-24T01:02:46.909Z"
   },
   {
    "duration": 429,
    "start_time": "2024-09-24T01:02:46.915Z"
   },
   {
    "duration": 154,
    "start_time": "2024-09-24T01:02:47.346Z"
   },
   {
    "duration": 162,
    "start_time": "2024-09-24T01:02:47.502Z"
   },
   {
    "duration": 12,
    "start_time": "2024-09-24T01:02:47.665Z"
   },
   {
    "duration": 11,
    "start_time": "2024-09-24T01:02:47.795Z"
   },
   {
    "duration": 10,
    "start_time": "2024-09-24T01:02:47.983Z"
   },
   {
    "duration": 8,
    "start_time": "2024-09-24T01:02:48.536Z"
   },
   {
    "duration": 5,
    "start_time": "2024-09-24T01:03:07.652Z"
   },
   {
    "duration": 8,
    "start_time": "2024-09-24T01:03:18.695Z"
   },
   {
    "duration": 7,
    "start_time": "2024-09-24T01:03:39.842Z"
   },
   {
    "duration": 7,
    "start_time": "2024-09-24T01:03:55.495Z"
   },
   {
    "duration": 8,
    "start_time": "2024-09-24T01:04:35.415Z"
   },
   {
    "duration": 10,
    "start_time": "2024-09-24T01:09:44.839Z"
   },
   {
    "duration": 7,
    "start_time": "2024-09-24T01:09:54.361Z"
   },
   {
    "duration": 163,
    "start_time": "2024-11-03T22:20:13.229Z"
   },
   {
    "duration": 14,
    "start_time": "2024-11-03T22:20:59.658Z"
   },
   {
    "duration": 14,
    "start_time": "2024-11-03T22:21:09.794Z"
   },
   {
    "duration": 2586,
    "start_time": "2024-11-03T22:21:19.242Z"
   },
   {
    "duration": 22,
    "start_time": "2024-11-03T22:21:23.642Z"
   },
   {
    "duration": 18,
    "start_time": "2024-11-03T22:21:24.625Z"
   },
   {
    "duration": 13,
    "start_time": "2024-11-03T22:21:25.675Z"
   },
   {
    "duration": 257,
    "start_time": "2024-11-03T22:21:28.333Z"
   },
   {
    "duration": 250,
    "start_time": "2024-11-03T22:21:29.866Z"
   },
   {
    "duration": 2017,
    "start_time": "2024-11-03T22:21:31.826Z"
   },
   {
    "duration": 1688,
    "start_time": "2024-11-03T22:21:49.839Z"
   },
   {
    "duration": 230,
    "start_time": "2024-11-03T22:23:12.304Z"
   },
   {
    "duration": 397,
    "start_time": "2024-11-03T22:25:47.929Z"
   },
   {
    "duration": 546,
    "start_time": "2024-11-03T22:26:32.647Z"
   },
   {
    "duration": 7,
    "start_time": "2024-11-03T22:28:24.649Z"
   },
   {
    "duration": 6,
    "start_time": "2024-11-03T22:28:28.556Z"
   },
   {
    "duration": 400,
    "start_time": "2024-11-03T22:28:43.544Z"
   },
   {
    "duration": 143,
    "start_time": "2024-11-03T22:28:44.769Z"
   },
   {
    "duration": 153,
    "start_time": "2024-11-03T22:28:45.763Z"
   },
   {
    "duration": 13,
    "start_time": "2024-11-03T22:28:46.262Z"
   },
   {
    "duration": 10,
    "start_time": "2024-11-03T22:28:46.805Z"
   },
   {
    "duration": 11,
    "start_time": "2024-11-03T22:28:47.001Z"
   },
   {
    "duration": 6,
    "start_time": "2024-11-03T22:28:47.411Z"
   },
   {
    "duration": 9,
    "start_time": "2024-11-03T22:28:47.589Z"
   },
   {
    "duration": 6,
    "start_time": "2024-11-03T22:29:11.584Z"
   },
   {
    "duration": 76,
    "start_time": "2024-11-03T22:29:36.053Z"
   },
   {
    "duration": 8,
    "start_time": "2024-11-03T22:31:09.199Z"
   },
   {
    "duration": 13,
    "start_time": "2024-11-03T22:31:35.498Z"
   },
   {
    "duration": 5,
    "start_time": "2024-11-03T22:32:22.703Z"
   }
  ],
  "kernelspec": {
   "display_name": "Python 3 (ipykernel)",
   "language": "python",
   "name": "python3"
  },
  "language_info": {
   "codemirror_mode": {
    "name": "ipython",
    "version": 3
   },
   "file_extension": ".py",
   "mimetype": "text/x-python",
   "name": "python",
   "nbconvert_exporter": "python",
   "pygments_lexer": "ipython3",
   "version": "3.9.19"
  },
  "toc": {
   "base_numbering": 1,
   "nav_menu": {},
   "number_sections": true,
   "sideBar": true,
   "skip_h1_title": true,
   "title_cell": "Table of Contents",
   "title_sidebar": "Contents",
   "toc_cell": false,
   "toc_position": {},
   "toc_section_display": true,
   "toc_window_display": false
  }
 },
 "nbformat": 4,
 "nbformat_minor": 2
}
